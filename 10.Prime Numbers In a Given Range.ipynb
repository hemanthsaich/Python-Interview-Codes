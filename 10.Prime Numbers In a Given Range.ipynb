{
 "cells": [
  {
   "cell_type": "code",
   "execution_count": 1,
   "id": "e4382717",
   "metadata": {},
   "outputs": [],
   "source": [
    "# Find the Prime Numbers in a Given Range in Python\n",
    "# Given two integer as Limits, low and high, the objective is to write a code to in Python Find Prime Numbers in a Given Range in Python Language. To do so we’ll use nested loops to check for the Prime while Iterating through the range.\n",
    "# Example\n",
    "# Input : low = 2 , high = 10\n",
    "# Output : 2 3 5 7"
   ]
  },
  {
   "cell_type": "code",
   "execution_count": 4,
   "id": "c6d985ef",
   "metadata": {},
   "outputs": [
    {
     "name": "stdout",
     "output_type": "stream",
     "text": [
      "[2, 3, 5, 7]\n"
     ]
    }
   ],
   "source": [
    "# Method 1: Using inner loop Range as [2, number-1]\n",
    "low  = int(input(\"Enter Num1: \"))\n",
    "high = int(input(\"Enter Num2: \"))\n",
    "primes = []\n",
    "for i in range(low,high+1):\n",
    "    flag = 0\n",
    "    if i < 2:\n",
    "        continue     \n",
    "    if i == 2:\n",
    "        primes.append(i)\n",
    "        continue\n",
    "        \n",
    "    for x in range(2,i):\n",
    "        if i % x == 0:\n",
    "            flag = 1\n",
    "            break\n",
    "    if flag == 0:\n",
    "        primes.append(i)\n",
    "print(primes)"
   ]
  },
  {
   "cell_type": "code",
   "execution_count": null,
   "id": "2f7466ef",
   "metadata": {},
   "outputs": [],
   "source": []
  }
 ],
 "metadata": {
  "kernelspec": {
   "display_name": "Python 3 (ipykernel)",
   "language": "python",
   "name": "python3"
  },
  "language_info": {
   "codemirror_mode": {
    "name": "ipython",
    "version": 3
   },
   "file_extension": ".py",
   "mimetype": "text/x-python",
   "name": "python",
   "nbconvert_exporter": "python",
   "pygments_lexer": "ipython3",
   "version": "3.11.5"
  }
 },
 "nbformat": 4,
 "nbformat_minor": 5
}
