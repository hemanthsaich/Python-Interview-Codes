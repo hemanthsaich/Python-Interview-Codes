{
 "cells": [
  {
   "cell_type": "code",
   "execution_count": 5,
   "id": "006945b2",
   "metadata": {},
   "outputs": [
    {
     "name": "stdout",
     "output_type": "stream",
     "text": [
      "Positive\n"
     ]
    }
   ],
   "source": [
    "# Check if a Number is Positive and Negative in Python\n",
    "# Given an integer input, the objective is check whether the given integer is Positive or Negative. In order to do so we have the following methods,\n",
    "# Method 1: Using Brute Force\n",
    "#Algorithm :\n",
    "# This method uses Brute Force to check whether a given integer is Positive or Negative.\n",
    "\n",
    "# Algorithm for the above code is as follows,\n",
    "\n",
    "# Initialize num as 15\n",
    "# If the num > 0: it is a positive number.\n",
    "# If the num < 0: it is a Negative number.\n",
    "# Else the number has to be zero itself\n",
    "\n",
    "num = 15 \n",
    "if num > 0 :\n",
    "    print(\"Positive\")\n",
    "elif num < 0:\n",
    "    print(\"Negative\")\n",
    "else:\n",
    "    print(\"Zero\")\n"
   ]
  },
  {
   "cell_type": "code",
   "execution_count": 6,
   "id": "dd658ae3",
   "metadata": {},
   "outputs": [
    {
     "name": "stdout",
     "output_type": "stream",
     "text": [
      "Positive\n"
     ]
    }
   ],
   "source": [
    "# Method 2: Using Nested if-else Statements\n",
    "# Algorithm\n",
    "# This method uses a nested if-else Statements to check whether a given number is Positive or Negative.\n",
    "\n",
    "# Algorithm for the above code is as follows,\n",
    "\n",
    "# Initialize num as 15\n",
    "# If the num >= 0\n",
    "# If num == 0 : num is zero\n",
    "# Else number has to be positive \n",
    "# Else the number has to be negative\n",
    "\n",
    "num = 15\n",
    "if num >= 0:\n",
    "    if num == 0:\n",
    "        print(\"Zero\")\n",
    "    else:\n",
    "        print(\"Positive\")\n",
    "else:\n",
    "    print(\"Negative\")"
   ]
  },
  {
   "cell_type": "code",
   "execution_count": 8,
   "id": "f7c91f5c",
   "metadata": {},
   "outputs": [
    {
     "name": "stdout",
     "output_type": "stream",
     "text": [
      "Positive\n"
     ]
    }
   ],
   "source": [
    "# Method 3: Using ternary operator\n",
    "# Algorithm\n",
    "# This method uses a ternary operator in Python to check whether a number is Positive or Negative.\n",
    "\n",
    "# For a user input num\n",
    "\n",
    "# Return “Positive” if num>=0 else “Negative”.\n",
    "# Algorithm for the above code is as follows,\n",
    "\n",
    "# Initialize num as 15.\n",
    "# print the output using ternary operator in python using print () function.\n",
    "num = 10\n",
    "print(\"Positive\" if num >=0 else \"Negative\")\n",
    "\n"
   ]
  }
 ],
 "metadata": {
  "kernelspec": {
   "display_name": "Python 3 (ipykernel)",
   "language": "python",
   "name": "python3"
  },
  "language_info": {
   "codemirror_mode": {
    "name": "ipython",
    "version": 3
   },
   "file_extension": ".py",
   "mimetype": "text/x-python",
   "name": "python",
   "nbconvert_exporter": "python",
   "pygments_lexer": "ipython3",
   "version": "3.11.5"
  }
 },
 "nbformat": 4,
 "nbformat_minor": 5
}
