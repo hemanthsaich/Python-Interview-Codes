{
 "cells": [
  {
   "cell_type": "code",
   "execution_count": null,
   "id": "710fb33c",
   "metadata": {},
   "outputs": [],
   "source": [
    "# Find the Sum of N Natural Numbers in Python\n",
    "# Given an integer input number, the objective is to sum all the numbers that lay from 1 to the integer input number and print the sum. In order to do so we usually use iteration to sum all the numbers until the input variable number.\n",
    "\n",
    "# Example\n",
    "# Input : number = 5\n",
    "# Output : 15\n",
    "# Explanation : 1 + 2 + 3 + 4 + 5 = 15"
   ]
  },
  {
   "cell_type": "code",
   "execution_count": 1,
   "id": "ed3b4396",
   "metadata": {},
   "outputs": [
    {
     "name": "stdout",
     "output_type": "stream",
     "text": [
      "21\n"
     ]
    }
   ],
   "source": [
    "# Method 1: Using for Loop\n",
    "# In this method we’ll use for loops to iterate through all the numbers until the integer input “number” is reached.\n",
    "number,sum = 6, 0\n",
    "for i in range(number+1):\n",
    "    sum += i\n",
    "print(sum)"
   ]
  },
  {
   "cell_type": "code",
   "execution_count": 2,
   "id": "f76f1573",
   "metadata": {},
   "outputs": [
    {
     "name": "stdout",
     "output_type": "stream",
     "text": [
      "21\n"
     ]
    }
   ],
   "source": [
    "# Method 2: Using the Formula\n",
    "# In this method we’ll use the formula for finding the sum of N integers in a series from series and sequences \n",
    "# i.e sum = number * ( number + 1 ) / 2 to calculate the sum until the given integer input.\n",
    "number = 6\n",
    "sum = int(number*(number+1)/2)\n",
    "print(sum)"
   ]
  },
  {
   "cell_type": "code",
   "execution_count": 3,
   "id": "aa17333c",
   "metadata": {},
   "outputs": [
    {
     "name": "stdout",
     "output_type": "stream",
     "text": [
      "21\n"
     ]
    }
   ],
   "source": [
    "# Method 3: Using Recursion\n",
    "# In this method we’ll use recursion to recursively iterate through the number \n",
    "# while appending them to the sum variable until the number is reach which here act as the base case. \n",
    "def Findsum(num):\n",
    "    if num == 0:\n",
    "        return num\n",
    "    return num + Findsum(num-1)\n",
    "number = 6\n",
    "print(Findsum(6))"
   ]
  },
  {
   "cell_type": "code",
   "execution_count": null,
   "id": "0bce92ab",
   "metadata": {},
   "outputs": [],
   "source": []
  }
 ],
 "metadata": {
  "kernelspec": {
   "display_name": "Python 3 (ipykernel)",
   "language": "python",
   "name": "python3"
  },
  "language_info": {
   "codemirror_mode": {
    "name": "ipython",
    "version": 3
   },
   "file_extension": ".py",
   "mimetype": "text/x-python",
   "name": "python",
   "nbconvert_exporter": "python",
   "pygments_lexer": "ipython3",
   "version": "3.11.5"
  }
 },
 "nbformat": 4,
 "nbformat_minor": 5
}
