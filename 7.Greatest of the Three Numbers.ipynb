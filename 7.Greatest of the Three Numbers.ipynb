{
 "cells": [
  {
   "cell_type": "code",
   "execution_count": 1,
   "id": "88cc53c5",
   "metadata": {},
   "outputs": [],
   "source": [
    "# Find the Greatest of the Three Numbers\n",
    "# Given three integer inputs the objective is to find the largest among them. Therefore we write a code to Find the Greatest of the Three Numbers in Python.\n",
    "\n",
    "# Example\n",
    "# Input : 20 30 10\n",
    "# Output : 30"
   ]
  },
  {
   "cell_type": "code",
   "execution_count": 2,
   "id": "7e00e375",
   "metadata": {},
   "outputs": [
    {
     "name": "stdout",
     "output_type": "stream",
     "text": [
      "20\n",
      "30\n",
      "10\n",
      "30\n"
     ]
    }
   ],
   "source": [
    "# Method 1: Using if-else Statements\n",
    "# In this method we use if-else statements to find the Largest Number among the three integer inputs.\n",
    "num1 = int(input())\n",
    "num2 = int(input())\n",
    "num3 = int(input())\n",
    "if num1 > num2 and num1 > num3:\n",
    "    print(num1)\n",
    "elif num2 > num1 and num2 > num3:\n",
    "    print(num2)\n",
    "else:\n",
    "    print(num3)"
   ]
  },
  {
   "cell_type": "code",
   "execution_count": 3,
   "id": "019efb71",
   "metadata": {},
   "outputs": [
    {
     "name": "stdout",
     "output_type": "stream",
     "text": [
      "102\n",
      "203\n",
      "110\n",
      "203\n"
     ]
    }
   ],
   "source": [
    "# Method 2: Using Nested if-else Statements\n",
    "# In this method we use if-else statements within one another to find the Largest Number among the three integer inputs.\n",
    "num1 = int(input())\n",
    "num2 = int(input())\n",
    "num3 = int(input())\n",
    "if num1 >= num2:\n",
    "    if num1 >= num3:\n",
    "        print(num1)\n",
    "elif num2 >= num1:\n",
    "    if num2 >= num3:\n",
    "        print(num2)\n",
    "else:\n",
    "    print(num3)"
   ]
  },
  {
   "cell_type": "code",
   "execution_count": 4,
   "id": "db318bcd",
   "metadata": {},
   "outputs": [
    {
     "name": "stdout",
     "output_type": "stream",
     "text": [
      "20\n",
      "10\n",
      "30\n",
      "30\n"
     ]
    }
   ],
   "source": [
    "# Method 3: Using Ternary Operator\n",
    "# In this method we use Ternary operator to compare and find the Largest Number among the three integer inputs.\n",
    "num1 = int(input())\n",
    "num2 = int(input())\n",
    "num3 = int(input())\n",
    "max = num1 if num1 > num2 else num2\n",
    "max = num3 if num3 > max else max\n",
    "print(max)"
   ]
  },
  {
   "cell_type": "code",
   "execution_count": null,
   "id": "2b79cae7",
   "metadata": {},
   "outputs": [],
   "source": []
  }
 ],
 "metadata": {
  "kernelspec": {
   "display_name": "Python 3 (ipykernel)",
   "language": "python",
   "name": "python3"
  },
  "language_info": {
   "codemirror_mode": {
    "name": "ipython",
    "version": 3
   },
   "file_extension": ".py",
   "mimetype": "text/x-python",
   "name": "python",
   "nbconvert_exporter": "python",
   "pygments_lexer": "ipython3",
   "version": "3.11.5"
  }
 },
 "nbformat": 4,
 "nbformat_minor": 5
}
