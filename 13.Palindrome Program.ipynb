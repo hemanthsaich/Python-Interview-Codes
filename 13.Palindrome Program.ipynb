{
 "cells": [
  {
   "cell_type": "code",
   "execution_count": 1,
   "id": "9fee8bc3-ce67-40cc-9fab-cbd4dd97f3cb",
   "metadata": {},
   "outputs": [],
   "source": [
    "# Check Whether or Not the Number is a Palindrome in Python\n",
    "# Given an integer number as an input, the objective is to check Whether or not the number is a palindrome. Therefore, we write a code to Check Whether or Not the Number is a Palindrome in Python Language.\n",
    "\n",
    "# Example\n",
    "# Input : 1221\n",
    "# Output : Palindrome"
   ]
  },
  {
   "cell_type": "code",
   "execution_count": 5,
   "id": "9ef6849c-4aa9-4aa7-9c65-d929b1d4d069",
   "metadata": {},
   "outputs": [
    {
     "name": "stdin",
     "output_type": "stream",
     "text": [
      "Enter a number :  54445\n"
     ]
    },
    {
     "name": "stdout",
     "output_type": "stream",
     "text": [
      "Palindrome\n"
     ]
    }
   ],
   "source": [
    "# Method 1:  Using Simple Iteration.\n",
    "\n",
    "num = int(input(\"Enter a number : \"))\n",
    "temp = num \n",
    "reverse = 0\n",
    "while temp > 0:\n",
    "    rem = temp % 10\n",
    "    reverse = (reverse * 10) +rem\n",
    "    temp = temp // 10\n",
    "if num == reverse:\n",
    "    print(\"Palindrome\")\n",
    "else:\n",
    "    print(\"Not a Palindrome\")"
   ]
  },
  {
   "cell_type": "code",
   "execution_count": 6,
   "id": "e5cb1087-4022-458a-8f25-b58a8a7bb493",
   "metadata": {},
   "outputs": [
    {
     "name": "stdin",
     "output_type": "stream",
     "text": [
      "Enter a number:  1221\n"
     ]
    },
    {
     "name": "stdout",
     "output_type": "stream",
     "text": [
      "Palindrome\n"
     ]
    }
   ],
   "source": [
    "# Method 2: Using String Slicing\n",
    "num = int(input(\"Enter a number: \"))\n",
    "reverse = int(str(num)[::-1])\n",
    "if num == reverse:\n",
    "    print(\"Palindrome\")\n",
    "else:\n",
    "    print(\"Not a Palindrome\")"
   ]
  },
  {
   "cell_type": "code",
   "execution_count": 7,
   "id": "56422fb6-2c4c-4365-a669-87682d8c3e33",
   "metadata": {},
   "outputs": [
    {
     "name": "stdin",
     "output_type": "stream",
     "text": [
      "Enter a number:  1221\n"
     ]
    },
    {
     "name": "stdout",
     "output_type": "stream",
     "text": [
      "Palindrome\n"
     ]
    }
   ],
   "source": [
    "# Method 3: Using Recursion\n",
    "def find_reverse(num,rev):\n",
    "    if num == 0:\n",
    "        return rev\n",
    "    rem = num % 10\n",
    "    rev = (rev * 10) + rem\n",
    "    return find_reverse(int(num / 10),rev)\n",
    "    \n",
    "num = int(input(\"Enter a number: \"))\n",
    "reverse = 0\n",
    "reverse = find_reverse(num,reverse)\n",
    "if num == reverse:\n",
    "    print(\"Palindrome\")\n",
    "else:\n",
    "    print(\"Not a Palindrome\")"
   ]
  },
  {
   "cell_type": "code",
   "execution_count": 9,
   "id": "8913aeba-825e-4c1c-a164-097f01af3771",
   "metadata": {},
   "outputs": [
    {
     "name": "stdin",
     "output_type": "stream",
     "text": [
      "Enter a String:  kayak\n"
     ]
    },
    {
     "name": "stdout",
     "output_type": "stream",
     "text": [
      "palindrome.\n"
     ]
    }
   ],
   "source": [
    "# Method 4: Using Character matching\n",
    "def isSame(str):\n",
    "    # check if str[i] is same as str[len(str) - i - 1]\n",
    "    # for whole string\n",
    "    for i in range(0, len(str)):\n",
    "        # Basically, we are checking i-th character is\n",
    "        # same as i-th character from the end or not\n",
    "        if str[i] != str[len(str) - i -1]:\n",
    "            return False\n",
    "    return True\n",
    "    \n",
    "#mainfunction\n",
    "s = input(\"Enter a String: \")\n",
    "print(\"palindrome.\") if isSame(s) else print(\"Not a Palindrome.\")"
   ]
  },
  {
   "cell_type": "code",
   "execution_count": 12,
   "id": "67577522-7429-4147-848d-4b0c7649b4e5",
   "metadata": {},
   "outputs": [
    {
     "name": "stdin",
     "output_type": "stream",
     "text": [
      "Enter a String:  mayam\n"
     ]
    },
    {
     "name": "stdout",
     "output_type": "stream",
     "text": [
      "palindrome.\n"
     ]
    }
   ],
   "source": [
    "# Method 5: Using Character matching (Updated)\n",
    "def isSame(str):\n",
    "    mid = int(len(str)/2)\n",
    "    for i in range(0, mid):\n",
    "        if str[i] != str[len(str) - i -1]:\n",
    "            return False\n",
    "    return True\n",
    "    \n",
    "#mainfunction\n",
    "s = input(\"Enter a String: \")\n",
    "print(\"palindrome.\") if isSame(s) else print(\"Not a Palindrome.\")"
   ]
  },
  {
   "cell_type": "code",
   "execution_count": 14,
   "id": "3b94dc77-337b-4940-8309-428dd417bf2d",
   "metadata": {},
   "outputs": [
    {
     "name": "stdin",
     "output_type": "stream",
     "text": [
      "Enter a String:  mayam\n"
     ]
    },
    {
     "name": "stdout",
     "output_type": "stream",
     "text": [
      "palindrome.\n"
     ]
    }
   ],
   "source": [
    "# Method 6: Using In-Built reversed function\n",
    "def isSame(str):\n",
    "    reverse = \"\".join(reversed(str))\n",
    "    if str == reverse:\n",
    "        return True\n",
    "    else:\n",
    "        return False\n",
    "        \n",
    "#mainfunction\n",
    "s = input(\"Enter a String: \")\n",
    "print(\"palindrome.\") if isSame(s) else print(\"Not a Palindrome.\")"
   ]
  },
  {
   "cell_type": "code",
   "execution_count": null,
   "id": "c7b95e7b-ee1d-4fac-b452-c01817381917",
   "metadata": {},
   "outputs": [],
   "source": []
  }
 ],
 "metadata": {
  "kernelspec": {
   "display_name": "Python 3 (ipykernel)",
   "language": "python",
   "name": "python3"
  },
  "language_info": {
   "codemirror_mode": {
    "name": "ipython",
    "version": 3
   },
   "file_extension": ".py",
   "mimetype": "text/x-python",
   "name": "python",
   "nbconvert_exporter": "python",
   "pygments_lexer": "ipython3",
   "version": "3.9.18"
  }
 },
 "nbformat": 4,
 "nbformat_minor": 5
}
