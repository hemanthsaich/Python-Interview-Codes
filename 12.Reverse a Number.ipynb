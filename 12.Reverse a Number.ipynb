{
 "cells": [
  {
   "cell_type": "code",
   "execution_count": 1,
   "id": "87579f50",
   "metadata": {},
   "outputs": [],
   "source": [
    "# Find the Reverse of a Number in Python\n",
    "# Given an integer input the objective is to reverse the given integer number using loops and slicing. \n",
    "# Therefore, we’ll write a program to Find the Reverse of a Number in Python Language.\n",
    "\n",
    "# Example\n",
    "# Input : 123\n",
    "# Output : 321"
   ]
  },
  {
   "cell_type": "code",
   "execution_count": 3,
   "id": "f01b5db7",
   "metadata": {},
   "outputs": [
    {
     "name": "stdout",
     "output_type": "stream",
     "text": [
      "4321\n"
     ]
    }
   ],
   "source": [
    "# Method 1: Using Simple Iteration\n",
    "num = 1234\n",
    "reverse = 0\n",
    "while num > 0:\n",
    "    last_digit = int(num % 10)\n",
    "    reverse = (reverse*10) + last_digit\n",
    "    num = num // 10\n",
    "print(reverse)"
   ]
  },
  {
   "cell_type": "code",
   "execution_count": 4,
   "id": "86ef0ba1",
   "metadata": {},
   "outputs": [
    {
     "name": "stdout",
     "output_type": "stream",
     "text": [
      "4321\n"
     ]
    }
   ],
   "source": [
    "# Method 2: Using String Slicing\n",
    "num = 1234\n",
    "print(str(num)[::-1])"
   ]
  },
  {
   "cell_type": "code",
   "execution_count": 5,
   "id": "ed36ba02",
   "metadata": {},
   "outputs": [
    {
     "name": "stdout",
     "output_type": "stream",
     "text": [
      "4321\n"
     ]
    }
   ],
   "source": [
    "# Method 3: Using Recursion\n",
    "def reverseNum(num, reverse):\n",
    "    if num == 0:\n",
    "        return reverse\n",
    "    last_digit = int(num % 10)\n",
    "    reverse = (reverse * 10) + last_digit\n",
    "    return reverseNum(int(num/10),reverse)\n",
    "    \n",
    "num = 1234\n",
    "reverse = 0\n",
    "print(reverseNum(num,reverse))"
   ]
  },
  {
   "cell_type": "code",
   "execution_count": null,
   "id": "d0d77e66",
   "metadata": {},
   "outputs": [],
   "source": []
  }
 ],
 "metadata": {
  "kernelspec": {
   "display_name": "Python 3 (ipykernel)",
   "language": "python",
   "name": "python3"
  },
  "language_info": {
   "codemirror_mode": {
    "name": "ipython",
    "version": 3
   },
   "file_extension": ".py",
   "mimetype": "text/x-python",
   "name": "python",
   "nbconvert_exporter": "python",
   "pygments_lexer": "ipython3",
   "version": "3.11.5"
  }
 },
 "nbformat": 4,
 "nbformat_minor": 5
}
