{
 "cells": [
  {
   "cell_type": "code",
   "execution_count": 6,
   "id": "9552e8da",
   "metadata": {},
   "outputs": [],
   "source": [
    "# Check Whether a Number is Even or Odd in Python\n",
    "# Given an integer input the objective is to write a Python code to Check Whether a Number is Even or Odd. \n",
    "# To do so the main idea is to divide the number by 2 and check if it’s divisible or not. \n",
    "# It’s an Even number is it’s perfectly divisible by 2 or an Odd number otherwise."
   ]
  },
  {
   "cell_type": "code",
   "execution_count": 8,
   "id": "ea731009",
   "metadata": {},
   "outputs": [
    {
     "name": "stdout",
     "output_type": "stream",
     "text": [
      "Enter a number: 20\n",
      "Given number is :Even\n"
     ]
    }
   ],
   "source": [
    "# Method 1 : Using Brute Force\n",
    "# This method simply checks if the given input integer is divisible by 2 or not. \n",
    "# If it’s divisible then print Even or Odd otherwise.\n",
    "\n",
    "num = int(input(\"Enter a number: \"))\n",
    "if num % 2 == 0:\n",
    "    print(\"Given number is :Even\")\n",
    "else:\n",
    "    print(\"Given number is :Odd\")"
   ]
  },
  {
   "cell_type": "code",
   "execution_count": 9,
   "id": "0cd30e2f",
   "metadata": {},
   "outputs": [
    {
     "name": "stdout",
     "output_type": "stream",
     "text": [
      "Enter a number: 20\n",
      "Even\n"
     ]
    }
   ],
   "source": [
    "# Method 2 : Using Ternary Operator\n",
    "# This Method uses the ternary operator to check if the integer input is divisible by 2, If true print Even or Odd otherwise.\n",
    "\n",
    "num = int(input(\"Enter a number: \"))\n",
    "print(\"Even\" if num % 2 == 0 else \"Odd\")"
   ]
  },
  {
   "cell_type": "code",
   "execution_count": 10,
   "id": "dbc8a005",
   "metadata": {},
   "outputs": [
    {
     "name": "stdout",
     "output_type": "stream",
     "text": [
      "Enter a number: 20\n",
      "Even\n"
     ]
    }
   ],
   "source": [
    "# Method 3 : Using Bitwise Operator\n",
    "# This Method uses bitwise operators to check if a given number is Even or Odd.\n",
    "\n",
    "def isEven(num):\n",
    "    return not num&1\n",
    "if __name__ == \"__main__\":\n",
    "    num = int(input(\"Enter a number: \"))\n",
    "    if isEven(num):\n",
    "        print(\"Even\")\n",
    "    else:\n",
    "        print(\"Odd\")"
   ]
  }
 ],
 "metadata": {
  "kernelspec": {
   "display_name": "Python 3 (ipykernel)",
   "language": "python",
   "name": "python3"
  },
  "language_info": {
   "codemirror_mode": {
    "name": "ipython",
    "version": 3
   },
   "file_extension": ".py",
   "mimetype": "text/x-python",
   "name": "python",
   "nbconvert_exporter": "python",
   "pygments_lexer": "ipython3",
   "version": "3.11.5"
  }
 },
 "nbformat": 4,
 "nbformat_minor": 5
}
