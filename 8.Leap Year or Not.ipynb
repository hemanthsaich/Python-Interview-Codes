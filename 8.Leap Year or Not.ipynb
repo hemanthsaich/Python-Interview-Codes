{
 "cells": [
  {
   "cell_type": "code",
   "execution_count": null,
   "id": "704e9f36",
   "metadata": {},
   "outputs": [],
   "source": [
    "# Check if a Year is a Leap Year or Not in Python\n",
    "# Given an integer input year, the objective of the code is to Check if a Year is a Leap Year or Not in Python Language. To do so  we’ll check if the year input satisfies either of the two conditions of leap year.\n",
    "\n",
    "# Example\n",
    "# Input : 2020\n",
    "# Output : It's a Leap Year."
   ]
  },
  {
   "cell_type": "code",
   "execution_count": 1,
   "id": "28bd16e0",
   "metadata": {},
   "outputs": [
    {
     "name": "stdout",
     "output_type": "stream",
     "text": [
      "Enter year: 2004\n",
      "Leap Year\n"
     ]
    }
   ],
   "source": [
    "# Method 1: Using if-else Statements 1\n",
    "# In this method we’ll use the if-else statements to check whether or not the input integer satisfies either of the conditions. \n",
    "year = int(input(\"Enter year: \"))\n",
    "if year % 400 == 0 or (year % 4 == 0 and year % 100 != 0):\n",
    "    print(\"Leap Year\")\n",
    "else:\n",
    "    print(\"Not Leap year\")"
   ]
  },
  {
   "cell_type": "code",
   "execution_count": 2,
   "id": "6952c2f9",
   "metadata": {},
   "outputs": [
    {
     "name": "stdout",
     "output_type": "stream",
     "text": [
      "Enter year: 2002\n",
      "Not Leap year\n"
     ]
    }
   ],
   "source": [
    "# Method 2: Using if-else Statements 2\n",
    "# In this method we’ll use the if-else statements to check whether or not the input integer satisfies either of the conditions. \n",
    "# This method is a modified and simpler version of the previous method.\n",
    "year = int(input(\"Enter year: \"))\n",
    "if (year % 4 == 0 and year % 100 != 0) or year % 400 == 0:\n",
    "    print(\"Leap Year\")\n",
    "else:\n",
    "    print(\"Not Leap year\")"
   ]
  },
  {
   "cell_type": "code",
   "execution_count": 3,
   "id": "466eea58",
   "metadata": {},
   "outputs": [
    {
     "name": "stdout",
     "output_type": "stream",
     "text": [
      "Enter year: 2004\n",
      "2004 is Leap Year.\n"
     ]
    }
   ],
   "source": [
    "# Method 3: Using Ternary Operator\n",
    "# In this method we’ll use ternary operator in Python\n",
    "def checkLeap(year):\n",
    "    return (year % 4 == 0 and year % 100 != 0) or year % 400 == 0\n",
    "\n",
    "year = int(input(\"Enter year: \"))\n",
    "print(f\"{year} is Leap Year.\" if checkLeap(year) else f\"{year} is not Leap year.\")"
   ]
  },
  {
   "cell_type": "code",
   "execution_count": 6,
   "id": "f2b1cdf6",
   "metadata": {},
   "outputs": [
    {
     "name": "stdout",
     "output_type": "stream",
     "text": [
      "Enter year: 2003\n",
      "2003 is not Leap Year\n"
     ]
    }
   ],
   "source": [
    "# Method 4: Using Calendar Module\n",
    "# In this method we’ll use calendar mode in python\n",
    "import calendar\n",
    "year = int(input(\"Enter year: \"))\n",
    "if calendar.isleap(year):\n",
    "    print(f\"{year} is Leap Year\")\n",
    "else:\n",
    "    print(f\"{year} is not Leap Year\")"
   ]
  },
  {
   "cell_type": "code",
   "execution_count": 8,
   "id": "02eb8fe1",
   "metadata": {},
   "outputs": [
    {
     "name": "stdout",
     "output_type": "stream",
     "text": [
      "Enter Year: 2004\n",
      "2004 is Leap Year.\n"
     ]
    }
   ],
   "source": [
    "# Method 5: Using Lamda Function\n",
    "# In this method we’ll use lamda function in python\n",
    "is_Leap = lambda year: (year % 4 == 0 and year % 100 != 0) or year % 400 == 0\n",
    "\n",
    "year = int(input(\"Enter Year: \"))\n",
    "if is_Leap(year):\n",
    "    print(f\"{year} is Leap Year.\")\n",
    "else:\n",
    "    print(f\"{year} is not Leap Year.\")"
   ]
  },
  {
   "cell_type": "code",
   "execution_count": null,
   "id": "4ef50f2f",
   "metadata": {},
   "outputs": [],
   "source": []
  },
  {
   "cell_type": "code",
   "execution_count": null,
   "id": "1cc8db27",
   "metadata": {},
   "outputs": [],
   "source": []
  }
 ],
 "metadata": {
  "kernelspec": {
   "display_name": "Python 3 (ipykernel)",
   "language": "python",
   "name": "python3"
  },
  "language_info": {
   "codemirror_mode": {
    "name": "ipython",
    "version": 3
   },
   "file_extension": ".py",
   "mimetype": "text/x-python",
   "name": "python",
   "nbconvert_exporter": "python",
   "pygments_lexer": "ipython3",
   "version": "3.11.5"
  }
 },
 "nbformat": 4,
 "nbformat_minor": 5
}
