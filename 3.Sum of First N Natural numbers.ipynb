{
 "cells": [
  {
   "cell_type": "code",
   "execution_count": null,
   "id": "bb77605f",
   "metadata": {},
   "outputs": [],
   "source": [
    "# Find the Sum of The First N Natural Numbers in Python\n",
    "# Given an integer input the objective is to write a code to Find the Sum of First N Natural Numbers in C++. To do so we simply keep adding the value of the iter variable using a for loop.\n",
    "\n",
    "# Example\n",
    "# Input : num = 8\n",
    "# Output : 36\n",
    "\n",
    "# Where first 8 number is 1, 2, 3, 4, 5, 6, 7, 8\n",
    "# Sum of numbers = 1 + 2 + 3 + 4 + 5 + 6 + 7 + 8 = 36"
   ]
  },
  {
   "cell_type": "code",
   "execution_count": 3,
   "id": "82cfa54e",
   "metadata": {},
   "outputs": [
    {
     "name": "stdout",
     "output_type": "stream",
     "text": [
      "2\n",
      "3\n"
     ]
    }
   ],
   "source": [
    "# Method 1 : Using for Loop\n",
    "# In this method we’ll add all the natural numbers until the given integer input using for loop in Python.\n",
    "num = int(input())\n",
    "sum = 0\n",
    "for i in range(1,num+1):\n",
    "    sum += i\n",
    "print(sum)"
   ]
  },
  {
   "cell_type": "code",
   "execution_count": 5,
   "id": "fae74530",
   "metadata": {},
   "outputs": [
    {
     "name": "stdout",
     "output_type": "stream",
     "text": [
      "2\n",
      "3\n"
     ]
    }
   ],
   "source": [
    "# Method 2 : Using Formula for the Sum of Nth Term\n",
    "# In this Method we use the formula for finding the sum of N term.\n",
    "\n",
    "# Formula to Find the Sum of N terms\n",
    "# Sum = ( Num * ( Num + 1 ) ) / 2\n",
    "\n",
    "num = int(input())\n",
    "sum = int((num*(num+1))/2)\n",
    "print(sum)"
   ]
  },
  {
   "cell_type": "code",
   "execution_count": null,
   "id": "a7f58a94",
   "metadata": {},
   "outputs": [],
   "source": [
    "# Method 3 : Using Recursion\n",
    "# This method uses Recursion to recursively add the natural numbers up to the given integer input using recursion\n",
    "def getSum(num):\n",
    "    if num == 1:\n",
    "        return 1\n",
    "    return num + getSum(num-1)\n",
    "\n",
    "num = 5\n",
    "print(getSum(num))"
   ]
  }
 ],
 "metadata": {
  "kernelspec": {
   "display_name": "Python 3 (ipykernel)",
   "language": "python",
   "name": "python3"
  },
  "language_info": {
   "codemirror_mode": {
    "name": "ipython",
    "version": 3
   },
   "file_extension": ".py",
   "mimetype": "text/x-python",
   "name": "python",
   "nbconvert_exporter": "python",
   "pygments_lexer": "ipython3",
   "version": "3.11.5"
  }
 },
 "nbformat": 4,
 "nbformat_minor": 5
}
