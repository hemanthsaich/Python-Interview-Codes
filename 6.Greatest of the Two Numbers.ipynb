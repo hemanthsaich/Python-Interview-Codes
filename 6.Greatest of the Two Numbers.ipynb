{
 "cells": [
  {
   "cell_type": "code",
   "execution_count": 1,
   "id": "3a50fc09",
   "metadata": {},
   "outputs": [],
   "source": [
    "# Find the Greatest of the Two Numbers\n",
    "# Given two integer inputs as number1 and number2, the objective is to find the largest among the two. Therefore we’ll write a code to Find the Greatest of the Two Numbers in Python Language.\n",
    "\n",
    "# Example\n",
    "# Input : 20 40\n",
    "# Output : 40"
   ]
  },
  {
   "cell_type": "code",
   "execution_count": 2,
   "id": "46e70437",
   "metadata": {},
   "outputs": [
    {
     "name": "stdout",
     "output_type": "stream",
     "text": [
      "200\n",
      "19\n",
      "200\n"
     ]
    }
   ],
   "source": [
    "# Method 1: Using if-else Statements\n",
    "# In this method we’ll find the Largest Number using simple if-else statements\n",
    "num1 = int(input())\n",
    "num2 = int(input())\n",
    "if num1 > num2:\n",
    "    print(num1)\n",
    "else:\n",
    "    print(num2)"
   ]
  },
  {
   "cell_type": "code",
   "execution_count": 3,
   "id": "29452300",
   "metadata": {},
   "outputs": [
    {
     "name": "stdout",
     "output_type": "stream",
     "text": [
      "30\n",
      "20\n",
      "30\n"
     ]
    }
   ],
   "source": [
    "# Method 2: Using Ternary Operator\n",
    "# In this method we’ll use Ternary Operator in Python to find the Largest Number among the two input integers.\n",
    "num1 = int(input())\n",
    "num2 = int(input())\n",
    "print(num1 if num1 > num2 else num2)"
   ]
  },
  {
   "cell_type": "code",
   "execution_count": 4,
   "id": "00904cb2",
   "metadata": {},
   "outputs": [
    {
     "name": "stdout",
     "output_type": "stream",
     "text": [
      "1944\n",
      "1545\n",
      "1944\n"
     ]
    }
   ],
   "source": [
    "# Method 3: Using inbuilt max() Function\n",
    "# In this method we’ll use the inbuilt max() function that take two integers as arguments and returns the largest among them.\n",
    "num1 = int(input())\n",
    "num2 = int(input())\n",
    "print(max(num1,num2))"
   ]
  },
  {
   "cell_type": "code",
   "execution_count": null,
   "id": "8a6d8f98",
   "metadata": {},
   "outputs": [],
   "source": []
  }
 ],
 "metadata": {
  "kernelspec": {
   "display_name": "Python 3 (ipykernel)",
   "language": "python",
   "name": "python3"
  },
  "language_info": {
   "codemirror_mode": {
    "name": "ipython",
    "version": 3
   },
   "file_extension": ".py",
   "mimetype": "text/x-python",
   "name": "python",
   "nbconvert_exporter": "python",
   "pygments_lexer": "ipython3",
   "version": "3.11.5"
  }
 },
 "nbformat": 4,
 "nbformat_minor": 5
}
