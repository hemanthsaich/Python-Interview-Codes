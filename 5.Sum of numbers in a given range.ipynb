{
 "cells": [
  {
   "cell_type": "code",
   "execution_count": 1,
   "id": "c1ab707a",
   "metadata": {},
   "outputs": [],
   "source": [
    "# Find the Sum of the Numbers in a Given Range\n",
    "# Given two integer inputs as the range [ low , high ], the objective is to find the sum of the numbers that lay in the intervals given by the integer inputs. Therefore we’ll write a code to Find the Sum of the Numbers in a Given Range in Python Language.\n",
    "\n",
    "# Example\n",
    "# Input : 2 5\n",
    "# Output : 14"
   ]
  },
  {
   "cell_type": "code",
   "execution_count": 2,
   "id": "6c896645",
   "metadata": {},
   "outputs": [
    {
     "name": "stdout",
     "output_type": "stream",
     "text": [
      "1\n",
      "6\n",
      "21\n"
     ]
    }
   ],
   "source": [
    "# Method 1: Using Brute Force\n",
    "# In this method we’ll use loops like \n",
    "# for, while and do while to sum all the numbers that lay in the intervals of the given input integers.\n",
    "\n",
    "num1 = int(input())\n",
    "num2 = int(input())\n",
    "sum = 0\n",
    "for i in range(num1,num2+1):\n",
    "    sum += i\n",
    "print(sum)"
   ]
  },
  {
   "cell_type": "code",
   "execution_count": 3,
   "id": "4c76bc66",
   "metadata": {},
   "outputs": [
    {
     "name": "stdout",
     "output_type": "stream",
     "text": [
      "1\n",
      "6\n",
      "21\n"
     ]
    }
   ],
   "source": [
    "# Method 2: Using the Formula\n",
    "# In this method we’ll use formula mentioned below\n",
    "# to find the sum of all the numbers that lay in the interval given by the input variable.\n",
    "# Formula to Find the Sum of Numbers in an Interval\n",
    "\n",
    "# The formula to find the sum of n natural numbers is:\n",
    "# Sum = n * ( n + 1 ) / 2\n",
    "\n",
    "# Therefore in order to find the sum in a given interval we'll minus the sum of the numbers until the lower range from the whole sum and add an offset as the lowest bound is itself included in the summation. Hence the final formula is :\n",
    "# Sum = b * ( b + 1 ) / 2 – a * ( a + 1 ) / 2 + a .\n",
    "num1 = int(input())\n",
    "num2 = int(input())\n",
    "sum = int((num2*(num2+1)/2) - (num1*(num1+1)/2) + num1)\n",
    "print(sum)"
   ]
  },
  {
   "cell_type": "code",
   "execution_count": 5,
   "id": "6a64159e",
   "metadata": {},
   "outputs": [
    {
     "name": "stdout",
     "output_type": "stream",
     "text": [
      "3\n",
      "6\n",
      "18\n"
     ]
    }
   ],
   "source": [
    "# Method 3: Using Recursion\n",
    "# In this method we’ll use recursion to find the sum of all the numbers that lay in the interval given by the input variable\n",
    "def Findsum(sum,num1,num2):\n",
    "    if num1>num2:\n",
    "        return sum\n",
    "    return num1 + Findsum(sum,num1+1,num2)\n",
    "\n",
    "num1 = int(input())\n",
    "num2 = int(input())\n",
    "sum = 0\n",
    "print(Findsum(sum,num1,num2))"
   ]
  },
  {
   "cell_type": "code",
   "execution_count": null,
   "id": "242faf69",
   "metadata": {},
   "outputs": [],
   "source": []
  }
 ],
 "metadata": {
  "kernelspec": {
   "display_name": "Python 3 (ipykernel)",
   "language": "python",
   "name": "python3"
  },
  "language_info": {
   "codemirror_mode": {
    "name": "ipython",
    "version": 3
   },
   "file_extension": ".py",
   "mimetype": "text/x-python",
   "name": "python",
   "nbconvert_exporter": "python",
   "pygments_lexer": "ipython3",
   "version": "3.11.5"
  }
 },
 "nbformat": 4,
 "nbformat_minor": 5
}
