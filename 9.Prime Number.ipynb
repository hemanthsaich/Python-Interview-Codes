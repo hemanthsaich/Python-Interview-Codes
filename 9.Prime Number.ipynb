{
 "cells": [
  {
   "cell_type": "code",
   "execution_count": 1,
   "id": "508c0345",
   "metadata": {},
   "outputs": [],
   "source": [
    "# Check Whether a Number is a Prime or Not in Python\n",
    "# Given an integer input the objective is to write a program to Check Whether a Number is a Prime or Not in Python Language.\n",
    "\n",
    "# Example\n",
    "# Input : 11\n",
    "# Output : 11 is a Prime"
   ]
  },
  {
   "cell_type": "code",
   "execution_count": 3,
   "id": "c3ff8ba8",
   "metadata": {},
   "outputs": [
    {
     "name": "stdout",
     "output_type": "stream",
     "text": [
      "Enter Number: 2\n",
      "Prime.\n"
     ]
    }
   ],
   "source": [
    "# Method 1: Simple iterative solution\n",
    "num = int(input(\"Enter Number: \"))\n",
    "flag = 0\n",
    "for i in range(2,num):\n",
    "    if num % i == 0:\n",
    "        flag = 1\n",
    "        break\n",
    "if flag == 1:\n",
    "    print(\"Not prime.\")\n",
    "else:\n",
    "    print(\"Prime.\")"
   ]
  },
  {
   "cell_type": "code",
   "execution_count": 4,
   "id": "126fe0c4",
   "metadata": {},
   "outputs": [
    {
     "name": "stdout",
     "output_type": "stream",
     "text": [
      "Enter Number: 14\n",
      "Not Prime.\n"
     ]
    }
   ],
   "source": [
    "# Method 2: Optimization by break condition\n",
    "num = int(input(\"Enter Number: \"))\n",
    "flag = 0\n",
    "if num < 2:\n",
    "    flag = 1\n",
    "else:\n",
    "    for i in range(2,num):\n",
    "        if num % i == 0:\n",
    "            flag = 1\n",
    "            break\n",
    "if flag == 1:\n",
    "    print(\"Not Prime.\")\n",
    "else:\n",
    "    print(\"Prime\")"
   ]
  },
  {
   "cell_type": "code",
   "execution_count": 6,
   "id": "16f00787",
   "metadata": {},
   "outputs": [
    {
     "name": "stdout",
     "output_type": "stream",
     "text": [
      "Enter Number: 11\n",
      "Prime\n"
     ]
    }
   ],
   "source": [
    "# Method 3: Optimization by n/2 iterations\n",
    "num = int(input(\"Enter Number: \"))\n",
    "flag = 0\n",
    "if num < 2:\n",
    "    flag = 1\n",
    "else:\n",
    "    for i in range(2,int((num/2)+1)):\n",
    "        if num % i == 0:\n",
    "            flag = 1\n",
    "            break\n",
    "if flag == 1:\n",
    "    print(\"Not Prime.\")\n",
    "else:\n",
    "    print(\"Prime\")"
   ]
  },
  {
   "cell_type": "code",
   "execution_count": 7,
   "id": "432cbe51",
   "metadata": {},
   "outputs": [
    {
     "name": "stdout",
     "output_type": "stream",
     "text": [
      "Enter Number: 12\n",
      "Not Prime.\n"
     ]
    }
   ],
   "source": [
    "# Method 4: Optimization by √n\n",
    "num = int(input(\"Enter Number: \"))\n",
    "flag = 0\n",
    "if num < 2:\n",
    "    flag = 1\n",
    "else:\n",
    "    for i in range(2,int(pow(num,0.5)+1)):\n",
    "        if num % i == 0:\n",
    "            flag = 1\n",
    "            break\n",
    "if flag == 1:\n",
    "    print(\"Not Prime.\")\n",
    "else:\n",
    "    print(\"Prime\")"
   ]
  },
  {
   "cell_type": "code",
   "execution_count": 19,
   "id": "c3d06760",
   "metadata": {},
   "outputs": [
    {
     "name": "stdout",
     "output_type": "stream",
     "text": [
      "Not Prime\n"
     ]
    }
   ],
   "source": [
    "# Method 5: Optimization by skipping even iteration\n",
    "num = 8\n",
    "flag = 0\n",
    "if num < 2:\n",
    "  flag = 1\n",
    "elif num == 2:\n",
    "  flag = 0\n",
    "else:\n",
    "  for i in range(2,int(pow(num,0.5)+1),2):\n",
    "    if num%i==0:\n",
    "      flag = 1\n",
    "      break\n",
    "\n",
    "if flag == 1:\n",
    "  print('Not Prime')\n",
    "else:\n",
    "  print(\"Prime\")"
   ]
  },
  {
   "cell_type": "code",
   "execution_count": 20,
   "id": "94380517",
   "metadata": {},
   "outputs": [
    {
     "name": "stdout",
     "output_type": "stream",
     "text": [
      "Enter Number: 12\n",
      "Not Prime\n"
     ]
    }
   ],
   "source": [
    "# Method 6: Basic Recursion technique\n",
    "num = int(input(\"Enter Number: \"))\n",
    "def checkPrime(num,iter = 2):\n",
    "    if num == iter:\n",
    "        return True\n",
    "    elif num < 2 or num % iter == 0:\n",
    "        return False\n",
    "    return checkprime(num,iter+1)\n",
    "if checkPrime(num) == True:\n",
    "    print(\"Prime\")\n",
    "else:\n",
    "    print(\"Not Prime\")\n",
    "    \n",
    "        \n",
    "        "
   ]
  },
  {
   "cell_type": "code",
   "execution_count": null,
   "id": "2042ff99",
   "metadata": {},
   "outputs": [],
   "source": []
  }
 ],
 "metadata": {
  "kernelspec": {
   "display_name": "Python 3 (ipykernel)",
   "language": "python",
   "name": "python3"
  },
  "language_info": {
   "codemirror_mode": {
    "name": "ipython",
    "version": 3
   },
   "file_extension": ".py",
   "mimetype": "text/x-python",
   "name": "python",
   "nbconvert_exporter": "python",
   "pygments_lexer": "ipython3",
   "version": "3.11.5"
  }
 },
 "nbformat": 4,
 "nbformat_minor": 5
}
