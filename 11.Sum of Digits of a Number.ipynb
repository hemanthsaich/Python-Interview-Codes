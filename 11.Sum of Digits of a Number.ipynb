{
 "cells": [
  {
   "cell_type": "code",
   "execution_count": 1,
   "id": "ca781abd",
   "metadata": {},
   "outputs": [],
   "source": [
    "# Find the sum of the Digits of a Number in Python\n",
    "# Given an input the objective to find the Sum of Digits of a Number in Python. To do so we’ll first extract the last element of the number and then keep shortening the number itself.\n",
    "\n",
    "# Example\n",
    "# Input : number = 123\n",
    "# Output : 6"
   ]
  },
  {
   "cell_type": "code",
   "execution_count": 3,
   "id": "b15476c6",
   "metadata": {},
   "outputs": [
    {
     "name": "stdout",
     "output_type": "stream",
     "text": [
      "Enter a Number: 1223\n",
      "8\n"
     ]
    }
   ],
   "source": [
    "# Method 0: Using String Character Extraction\n",
    "# We will extract each character in the string input and convert it to an individual character’s integer equivalent.\n",
    "num = input(\"Enter a Number: \")\n",
    "sum = 0\n",
    "for i in num:\n",
    "    sum = sum + int(i)\n",
    "print(sum)"
   ]
  },
  {
   "cell_type": "code",
   "execution_count": 4,
   "id": "4c367f0f",
   "metadata": {},
   "outputs": [
    {
     "name": "stdout",
     "output_type": "stream",
     "text": [
      "Enter a Number: 1223\n",
      "8\n"
     ]
    }
   ],
   "source": [
    "# Method 1: Using Brute Force\n",
    "# We extract each digit here by finding the modulus of the whole input by 10.\n",
    "num = int(input(\"Enter a Number: \"))\n",
    "sum = 0 \n",
    "\n",
    "while num != 0:\n",
    "    digit = int(num%10)\n",
    "    sum += digit\n",
    "    num = num/10\n",
    "    \n",
    "print(sum)"
   ]
  },
  {
   "cell_type": "code",
   "execution_count": 5,
   "id": "e5d1234a",
   "metadata": {},
   "outputs": [
    {
     "name": "stdout",
     "output_type": "stream",
     "text": [
      "Enter a Number: 1223\n",
      "8\n"
     ]
    }
   ],
   "source": [
    "# Method 2: Using Recursion I\n",
    "def FindSum(num,sum):\n",
    "    if num == 0:\n",
    "        return sum\n",
    "    digit = int(num%10)\n",
    "    sum += digit\n",
    "    return FindSum(num/10,sum)\n",
    "\n",
    "num = int(input(\"Enter a Number: \"))\n",
    "sum = 0\n",
    "print(FindSum(num,sum))\n"
   ]
  },
  {
   "cell_type": "code",
   "execution_count": 7,
   "id": "1a9aa4dc",
   "metadata": {},
   "outputs": [
    {
     "name": "stdout",
     "output_type": "stream",
     "text": [
      "Enter a Number: 1223\n",
      "8\n"
     ]
    }
   ],
   "source": [
    "# Method 3: Using Recursion II\n",
    "def FindSum(num):\n",
    "    if num == 0:\n",
    "        return sum\n",
    "    return int(num%10) + FindSum(num/10)\n",
    "\n",
    "num = int(input(\"Enter a Number: \"))\n",
    "print(FindSum(num))"
   ]
  },
  {
   "cell_type": "code",
   "execution_count": 9,
   "id": "7e47f2ab",
   "metadata": {},
   "outputs": [
    {
     "name": "stdout",
     "output_type": "stream",
     "text": [
      "8\n"
     ]
    }
   ],
   "source": [
    "# Method 4: Using ASCII Table\n",
    "\n",
    "num, sum = 1223, 0\n",
    "\n",
    "for i in range(len(str(num))):\n",
    "    # ord methods helps with ASCII\n",
    "    sum += ord(str(num)[i]) - 48\n",
    "\n",
    "print(sum)"
   ]
  },
  {
   "cell_type": "code",
   "execution_count": 18,
   "id": "b60c13a9",
   "metadata": {},
   "outputs": [
    {
     "name": "stdout",
     "output_type": "stream",
     "text": [
      "Enter a number: 1223\n",
      "8\n"
     ]
    }
   ],
   "source": [
    "# Method 5: One Line recursive function\n",
    "def FindSum(n):\n",
    "    return 0 if n == 0 else int(n%10) + FindSum(n/10)\n",
    "\n",
    "n = int(input(\"Enter a number: \"))\n",
    "print(FindSum(n))"
   ]
  },
  {
   "cell_type": "code",
   "execution_count": null,
   "id": "cc9330cd",
   "metadata": {},
   "outputs": [],
   "source": [
    "# Method 7: The cool method\n",
    "n = [int(d) for d in input(\"Enter the number : \")]  # Convert each digit to int and create a list\n",
    "print(\"the sum of digits is : \", sum(n))  # Print the sum of the digits"
   ]
  }
 ],
 "metadata": {
  "kernelspec": {
   "display_name": "Python 3 (ipykernel)",
   "language": "python",
   "name": "python3"
  },
  "language_info": {
   "codemirror_mode": {
    "name": "ipython",
    "version": 3
   },
   "file_extension": ".py",
   "mimetype": "text/x-python",
   "name": "python",
   "nbconvert_exporter": "python",
   "pygments_lexer": "ipython3",
   "version": "3.11.5"
  }
 },
 "nbformat": 4,
 "nbformat_minor": 5
}
